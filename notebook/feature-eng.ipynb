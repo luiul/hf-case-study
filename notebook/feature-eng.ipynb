{
 "cells": [
  {
   "cell_type": "markdown",
   "id": "adffa35c-f7df-4c13-9168-0db4376c0258",
   "metadata": {
    "tags": []
   },
   "source": [
    "# Features Engineering and Data Preparation "
   ]
  },
  {
   "cell_type": "markdown",
   "id": "b27cc511-a464-4f13-a501-b70d505e142d",
   "metadata": {},
   "source": [
    "## Import General Libraries"
   ]
  },
  {
   "cell_type": "code",
   "execution_count": null,
   "id": "999d7e0f-5025-430b-8a39-357d8382dd03",
   "metadata": {},
   "outputs": [],
   "source": [
    "import numpy as np\n",
    "import pandas as pd \n",
    "import matplotlib.pyplot as plt\n",
    "import seaborn as sns\n",
    "from datetime import datetime"
   ]
  },
  {
   "cell_type": "markdown",
   "id": "70a3a75b-f04c-4840-bd8d-800926680a21",
   "metadata": {
    "tags": []
   },
   "source": [
    "# Data Prepration"
   ]
  },
  {
   "cell_type": "markdown",
   "id": "660620c2-3066-41be-a80c-7791bc011837",
   "metadata": {},
   "source": [
    "## Read in Data and Instantiate DataFrame"
   ]
  },
  {
   "cell_type": "code",
   "execution_count": null,
   "id": "8cc85b5e-8fa5-470a-b781-4bc45e7a2cb4",
   "metadata": {},
   "outputs": [],
   "source": [
    "df = pd.read_csv('../data/raw_data.txt', sep='\\t')"
   ]
  },
  {
   "cell_type": "code",
   "execution_count": null,
   "id": "06e79d57-fa2d-4c8e-9164-97896aceed9f",
   "metadata": {},
   "outputs": [],
   "source": [
    "df_raw = df.copy()"
   ]
  },
  {
   "cell_type": "code",
   "execution_count": null,
   "id": "cdf9e64f-c2f8-4152-8c55-a5b2b039db5c",
   "metadata": {},
   "outputs": [],
   "source": [
    "df.head()"
   ]
  },
  {
   "cell_type": "code",
   "execution_count": null,
   "id": "55d081cd-313c-4fd9-89a9-5d2a6fd363e2",
   "metadata": {},
   "outputs": [],
   "source": [
    "df.info()"
   ]
  },
  {
   "cell_type": "code",
   "execution_count": null,
   "id": "91cf6f74-5423-480b-8216-d6d3c3022c80",
   "metadata": {},
   "outputs": [],
   "source": [
    "#! pip install tabulate\n",
    "from tabulate import tabulate"
   ]
  },
  {
   "cell_type": "code",
   "execution_count": null,
   "id": "119c5ec9-e3c5-48f6-bb52-f0f275852cd7",
   "metadata": {},
   "outputs": [],
   "source": [
    "l = []\n",
    "\n",
    "for c in df:\n",
    "    if len(df[c].unique())>8: \n",
    "        l.append([c,len(df[c].unique()),'?','?'])\n",
    "    else: \n",
    "        l.append([c,list(df[c].unique()),'?','?'])\n",
    "\n",
    "print(tabulate(l,headers=['col_name','unique_values','description','UOM'],tablefmt='orgtbl'))"
   ]
  },
  {
   "cell_type": "markdown",
   "id": "8af4cfb8-3861-488b-a2b0-f64e793ded43",
   "metadata": {},
   "source": [
    "## Export Raw Data as CSV"
   ]
  },
  {
   "cell_type": "code",
   "execution_count": null,
   "id": "d7313135-7cb4-481f-86ad-c30cf7f73c2a",
   "metadata": {},
   "outputs": [],
   "source": [
    "# export data fram to csv\n",
    "df.to_csv('../data/raw_data.csv',index=False)"
   ]
  },
  {
   "cell_type": "markdown",
   "id": "1145fcc3-0ea7-4f77-a708-464b4e81edbd",
   "metadata": {},
   "source": [
    "## Drop Features Without Information"
   ]
  },
  {
   "cell_type": "code",
   "execution_count": null,
   "id": "def62dbf-8090-4026-98a2-b9b0162dcfe7",
   "metadata": {},
   "outputs": [],
   "source": [
    "# all rows have the UOM grams\n",
    "# -> we can drop the column\n",
    "df['unit_weight_uom'] = 'g'"
   ]
  },
  {
   "cell_type": "code",
   "execution_count": null,
   "id": "5d06e730-aa12-4cc1-8caa-a0158a23f05c",
   "metadata": {},
   "outputs": [],
   "source": [
    "df.head()"
   ]
  },
  {
   "cell_type": "code",
   "execution_count": null,
   "id": "59dd79fc-ea69-4811-b2dc-51ed1217c86b",
   "metadata": {},
   "outputs": [],
   "source": [
    "df.drop(['expected_arrival_date','unit_weight_uom'],axis=1,inplace=True)"
   ]
  },
  {
   "cell_type": "code",
   "execution_count": null,
   "id": "c0cadc9f-b726-4978-a257-8b565bb4a9c6",
   "metadata": {},
   "outputs": [],
   "source": [
    "df.head()"
   ]
  },
  {
   "cell_type": "markdown",
   "id": "f77d74b2-18ca-454d-b290-d1d41889afcd",
   "metadata": {},
   "source": [
    "## Rename Columns"
   ]
  },
  {
   "cell_type": "code",
   "execution_count": null,
   "id": "13e24169-c32d-4be7-841c-01e9f94768ed",
   "metadata": {},
   "outputs": [],
   "source": [
    "r_map = {\n",
    "    \"supplier\":\"supplier_name\",\n",
    "    \"sku_id\":\"sku_id\",\n",
    "    \"sku_name\":\"sku_name\",\n",
    "    \"product\":\"sku_tags\",\n",
    "    \"unit_price_loc\":\"sku_price_local\",\n",
    "    \"item_quantity\":\"order_size\",\n",
    "    \"order_type\":\"order_type\",\n",
    "    \"unit_weight_value\":\"sku_weight_g\",\n",
    "    \"currency\":\"local_curr\",\n",
    "    \"to_eur\":\"local_curr_to_eur\",\n",
    "    \"sku_category\":\"sku_category\"\n",
    "}"
   ]
  },
  {
   "cell_type": "code",
   "execution_count": null,
   "id": "54f30826-7818-4889-98f1-9b829f11663f",
   "metadata": {},
   "outputs": [],
   "source": [
    "r_map"
   ]
  },
  {
   "cell_type": "code",
   "execution_count": null,
   "id": "a3d6a96c-ca5f-486d-a9fd-63ddc0d0396e",
   "metadata": {},
   "outputs": [],
   "source": [
    "df.rename(columns=r_map,inplace=True)"
   ]
  },
  {
   "cell_type": "code",
   "execution_count": null,
   "id": "620b1bb7-e3a1-4af9-a372-73d91cf5a377",
   "metadata": {},
   "outputs": [],
   "source": [
    "df.head()"
   ]
  },
  {
   "cell_type": "markdown",
   "id": "000f2488-a95c-4f1b-8569-4b3fb47ab929",
   "metadata": {},
   "source": [
    "## Translate non-English words"
   ]
  },
  {
   "cell_type": "code",
   "execution_count": null,
   "id": "33388fe9-0aba-4059-b011-0242da9b1f6b",
   "metadata": {},
   "outputs": [],
   "source": [
    "# df_de = df[df['supplier_country']=='DE']"
   ]
  },
  {
   "cell_type": "code",
   "execution_count": null,
   "id": "a7df4ce3-276f-4dc5-bb22-c30861d4c2d2",
   "metadata": {},
   "outputs": [],
   "source": [
    "# df_de.head()"
   ]
  },
  {
   "cell_type": "code",
   "execution_count": null,
   "id": "c4e8c25b-1498-45b0-bd5f-a0b509421aaa",
   "metadata": {},
   "outputs": [],
   "source": [
    "# from dotenv import dotenv_values\n",
    "# config = dotenv_values(\"./.env\")"
   ]
  },
  {
   "cell_type": "code",
   "execution_count": null,
   "id": "e6b02e65-117b-44d9-8bcb-44c9c3283595",
   "metadata": {},
   "outputs": [],
   "source": [
    "# key, = config.values()"
   ]
  },
  {
   "cell_type": "code",
   "execution_count": null,
   "id": "2e5aa24b-c21a-4368-bed7-552eafb1cb83",
   "metadata": {},
   "outputs": [],
   "source": [
    "#!pip install deepl\n",
    "# import deepl "
   ]
  },
  {
   "cell_type": "code",
   "execution_count": null,
   "id": "00ffd8a7-b880-45f3-92b7-2410e77024dd",
   "metadata": {},
   "outputs": [],
   "source": [
    "# translator = deepl.Translator(auth_key=key) "
   ]
  },
  {
   "cell_type": "code",
   "execution_count": null,
   "id": "bf489b66-8e11-4ee4-af1d-9006a8e0ee8d",
   "metadata": {},
   "outputs": [],
   "source": [
    "# df_de['sku_name_en'] = df_de['sku_name'].apply(lambda sku : translator.translate_text(sku, source_lang='de', target_lang='en-us').text)"
   ]
  },
  {
   "cell_type": "code",
   "execution_count": null,
   "id": "a593ed2a-e52a-4529-987f-63ac7b54a6de",
   "metadata": {},
   "outputs": [],
   "source": [
    "# df_de.to_csv('../data/data_de.csv')"
   ]
  },
  {
   "cell_type": "code",
   "execution_count": null,
   "id": "209d36f1-f598-44bc-b7c6-1f060f0bcb4d",
   "metadata": {},
   "outputs": [],
   "source": [
    "# df_de2 = df_de"
   ]
  },
  {
   "cell_type": "code",
   "execution_count": null,
   "id": "db740eee-90ff-403c-bc48-bf4ee185d03c",
   "metadata": {},
   "outputs": [],
   "source": [
    "df_de = pd.read_csv('../data/data_de.csv')"
   ]
  },
  {
   "cell_type": "code",
   "execution_count": null,
   "id": "37ff17e8-eed2-47fc-b244-062577ed0a78",
   "metadata": {},
   "outputs": [],
   "source": [
    "df_de = df_de.set_index('Unnamed: 0')"
   ]
  },
  {
   "cell_type": "code",
   "execution_count": null,
   "id": "face81ee-3e99-4611-8e14-5ec042896d06",
   "metadata": {},
   "outputs": [],
   "source": [
    "df_de.head()"
   ]
  },
  {
   "cell_type": "markdown",
   "id": "33b99360-964b-4201-bb50-fbda9f72005e",
   "metadata": {},
   "source": [
    "## Integrate Translated Words into Main DataFrame"
   ]
  },
  {
   "cell_type": "code",
   "execution_count": null,
   "id": "75af1b5a-7e90-4b8b-b0c7-b15b2030cc8e",
   "metadata": {},
   "outputs": [],
   "source": [
    "de_rows = list(df_de.index)"
   ]
  },
  {
   "cell_type": "code",
   "execution_count": null,
   "id": "476337c3-9443-46b6-ac48-6f22c8dcb571",
   "metadata": {},
   "outputs": [],
   "source": [
    "for i in de_rows:\n",
    "    df.loc[i,'sku_name'] = df_de['prod_name_en'].loc[i]"
   ]
  },
  {
   "cell_type": "code",
   "execution_count": null,
   "id": "d7e50f5d-13ed-4485-87f2-377f4f8d1e7a",
   "metadata": {},
   "outputs": [],
   "source": [
    "df.to_csv('../data/data_en.csv',index=False)"
   ]
  },
  {
   "cell_type": "code",
   "execution_count": null,
   "id": "cd878744-459c-4461-9be8-94de3b7dc324",
   "metadata": {},
   "outputs": [],
   "source": [
    "df.head()"
   ]
  },
  {
   "cell_type": "markdown",
   "id": "5c4ef963-0e21-411d-a492-b25063c7ae45",
   "metadata": {},
   "source": [
    "## Check for Missing Data"
   ]
  },
  {
   "cell_type": "code",
   "execution_count": null,
   "id": "2d9b325d-6aac-4b92-adc5-f8cae3da9c0c",
   "metadata": {},
   "outputs": [],
   "source": [
    "def percent_missing(df): \n",
    "    percent_nan = df.isnull().sum() / len(df) * 100\n",
    "    percent_nan = percent_nan[percent_nan>0].sort_values()\n",
    "    \n",
    "    return percent_nan"
   ]
  },
  {
   "cell_type": "code",
   "execution_count": null,
   "id": "2f767df5-dc5d-4578-864b-9e3866d4d196",
   "metadata": {},
   "outputs": [],
   "source": [
    "percent_missing(df).sum()\n",
    "# no misiing data"
   ]
  },
  {
   "cell_type": "code",
   "execution_count": null,
   "id": "bd7ce943-377c-43aa-ab98-d47bde9e5693",
   "metadata": {},
   "outputs": [],
   "source": [
    "df.head()"
   ]
  },
  {
   "cell_type": "code",
   "execution_count": null,
   "id": "165c6fc6-066a-4818-9cbf-1dddafc97127",
   "metadata": {},
   "outputs": [],
   "source": [
    "df.info()"
   ]
  },
  {
   "cell_type": "markdown",
   "id": "67ad90a9-6052-4d56-831d-506209e0a06a",
   "metadata": {},
   "source": [
    "# Prepare Datetime Columns"
   ]
  },
  {
   "cell_type": "code",
   "execution_count": null,
   "id": "eaeaac32-2d6d-4d5c-bda0-f7046a00b12a",
   "metadata": {},
   "outputs": [],
   "source": [
    "df['week'] = df['week'].str.extract(r'(\\d+\\-W)(\\d+)')[1]"
   ]
  },
  {
   "cell_type": "code",
   "execution_count": null,
   "id": "47c63e1d-fb49-4b10-9ab4-c5704af4eb7d",
   "metadata": {},
   "outputs": [],
   "source": [
    "df.head()"
   ]
  },
  {
   "cell_type": "markdown",
   "id": "ecf63d52-3a63-4606-ab8b-289915d13d61",
   "metadata": {},
   "source": [
    "# Standardize Price"
   ]
  },
  {
   "cell_type": "code",
   "execution_count": null,
   "id": "a200e342-7a2e-498a-97e2-a05406a79560",
   "metadata": {},
   "outputs": [],
   "source": [
    "df['sku_price_eur'] = df['sku_price_local']*df['local_curr_to_eur']"
   ]
  },
  {
   "cell_type": "code",
   "execution_count": null,
   "id": "2672eba3-f927-4bbd-92d7-e23fa874f72d",
   "metadata": {},
   "outputs": [],
   "source": [
    "df['sku_price_eur_per_kg'] = df.sku_price_eur/df.sku_weight_g*1000"
   ]
  },
  {
   "cell_type": "code",
   "execution_count": null,
   "id": "279ff309-0b4a-480a-abba-6fda1ebb8a21",
   "metadata": {},
   "outputs": [],
   "source": [
    "df.head()"
   ]
  },
  {
   "cell_type": "markdown",
   "id": "27fd3d69-1831-45bc-aae0-f228b0288ffd",
   "metadata": {},
   "source": [
    "# Calcualte Order Weight and Cost"
   ]
  },
  {
   "cell_type": "code",
   "execution_count": null,
   "id": "d4d0913e-8595-4636-a092-70fa4fe53546",
   "metadata": {},
   "outputs": [],
   "source": [
    "df['order_weight_kg'] = df['order_size']*df['sku_weight_g']/1000\n",
    "# unit is kg/order"
   ]
  },
  {
   "cell_type": "code",
   "execution_count": null,
   "id": "a2e66c4f-d4db-4d97-aad3-31454fa03d1d",
   "metadata": {},
   "outputs": [],
   "source": [
    "df['order_price_eur'] = df['order_size']*df['sku_price_eur']"
   ]
  },
  {
   "cell_type": "code",
   "execution_count": null,
   "id": "33b0cc98-9224-4e2e-91ca-bf61a0ca07f5",
   "metadata": {},
   "outputs": [],
   "source": [
    "# df['order_price_eur_per_kg'] = df['order_price_eur']/df['order_weight_kg']\n",
    "# this is the same as sku_price_per_kg"
   ]
  },
  {
   "cell_type": "code",
   "execution_count": null,
   "id": "bdef7277-f316-4e74-9317-ec36285e5aa1",
   "metadata": {},
   "outputs": [],
   "source": [
    "df.head()"
   ]
  },
  {
   "cell_type": "code",
   "execution_count": null,
   "id": "6a66971a-46c4-4684-bcdd-adb63825585e",
   "metadata": {},
   "outputs": [],
   "source": [
    "l = []\n",
    "\n",
    "for c in df:\n",
    "    if len(df[c].unique())>8: \n",
    "        l.append([c,len(df[c].unique()),'?','?'])\n",
    "    else: \n",
    "        l.append([c,list(df[c].unique()),'?','?'])\n",
    "\n",
    "print(tabulate(l,headers=['col_name','unique_values','description','UOM'],tablefmt='orgtbl'))\n",
    "print('\\n','Number of rows:', len(df))"
   ]
  },
  {
   "cell_type": "code",
   "execution_count": null,
   "id": "109cefab-97c7-401e-b482-d47b305dd285",
   "metadata": {},
   "outputs": [],
   "source": [
    "df.to_csv('../data/eng_data_i.csv')"
   ]
  },
  {
   "cell_type": "code",
   "execution_count": null,
   "id": "48368812-5e50-46db-b497-ed7112e15e7d",
   "metadata": {},
   "outputs": [],
   "source": [
    "df.to_csv('../data/eng_data.csv',index=False)"
   ]
  },
  {
   "cell_type": "markdown",
   "id": "5dc044c7-4778-43f1-9246-4569ac8ace44",
   "metadata": {},
   "source": [
    "# Explore Corr Heatmap"
   ]
  },
  {
   "cell_type": "code",
   "execution_count": null,
   "id": "f6137593-6705-4359-bfca-8bdb2163a3ab",
   "metadata": {},
   "outputs": [],
   "source": [
    "plt.figure(figsize=(12,10))\n",
    "\n",
    "corr= df.corr()\n",
    "matrix = np.triu(corr)\n",
    "\n",
    "sns.heatmap(corr,cmap='magma',annot=True, mask=matrix);\n",
    "# we see a high correlation between sku_weight_g and pro_price_local"
   ]
  },
  {
   "cell_type": "code",
   "execution_count": null,
   "id": "06a59d02-8c93-4d91-b532-15badd25fa8c",
   "metadata": {},
   "outputs": [],
   "source": [
    "d = df.describe().round(2)"
   ]
  },
  {
   "cell_type": "code",
   "execution_count": null,
   "id": "5fcf977e-3f40-4f9d-a32a-1ab389af5b90",
   "metadata": {},
   "outputs": [],
   "source": [
    "d.transpose().drop('count',axis=1)"
   ]
  },
  {
   "cell_type": "markdown",
   "id": "34229e4c-ad1e-4280-9d13-7f603eb7e25c",
   "metadata": {},
   "source": [
    "# Continuation"
   ]
  },
  {
   "cell_type": "code",
   "execution_count": null,
   "id": "c54bffd9-cc37-4696-9350-e2f5dcd28c1d",
   "metadata": {},
   "outputs": [],
   "source": [
    "df.head()"
   ]
  },
  {
   "cell_type": "code",
   "execution_count": null,
   "id": "85a91ad3-bd97-4373-b86a-0edd26ebbf22",
   "metadata": {},
   "outputs": [],
   "source": [
    "df.info()"
   ]
  },
  {
   "cell_type": "markdown",
   "id": "5578d06a-51d9-41c1-9e32-c36d0d080fc3",
   "metadata": {},
   "source": [
    "# Drop Unnecessary Columns for Analysis"
   ]
  },
  {
   "cell_type": "code",
   "execution_count": null,
   "id": "f390f8d1-ae0a-47f2-a39f-965687509220",
   "metadata": {},
   "outputs": [],
   "source": [
    "df = df.drop(['sku_price_local', 'local_curr', 'local_curr_to_eur'], axis=1)"
   ]
  },
  {
   "cell_type": "code",
   "execution_count": null,
   "id": "fcf1fc7a-6602-4b7d-b6c4-b73410fc3187",
   "metadata": {},
   "outputs": [],
   "source": [
    "df.sort_index(axis=1,inplace=True)"
   ]
  },
  {
   "cell_type": "code",
   "execution_count": null,
   "id": "45cd883a-033f-4318-89c6-b22c04c34887",
   "metadata": {},
   "outputs": [],
   "source": [
    "df.head()"
   ]
  },
  {
   "cell_type": "code",
   "execution_count": null,
   "id": "edbfb51f-77b8-4577-b250-9cc92790d0cf",
   "metadata": {},
   "outputs": [],
   "source": [
    "df['sku_count'] = df['sku_id'].map(df['sku_id'].value_counts())"
   ]
  },
  {
   "cell_type": "code",
   "execution_count": null,
   "id": "826cc35c-ffb0-42dd-97bc-063086be8eb9",
   "metadata": {},
   "outputs": [],
   "source": [
    "df.sort_values(by='sku_count',ascending=False)"
   ]
  },
  {
   "cell_type": "code",
   "execution_count": null,
   "id": "8e414bf9-2cb9-4a16-883a-c45c36c41f5e",
   "metadata": {},
   "outputs": [],
   "source": [
    "df.to_csv('../data/data1.csv',index=False)"
   ]
  },
  {
   "cell_type": "code",
   "execution_count": null,
   "id": "35735ef2-f2fb-40cf-bf09-81e61aa4b60c",
   "metadata": {},
   "outputs": [],
   "source": [
    "cols = ['sku_count','sku_id']\n",
    "tups = df[cols].sort_values(cols, ascending=False).apply(tuple,1)\n",
    "f, i = pd.factorize(tups)\n",
    "factorized = pd.Series(f+1,tups.index)\n",
    "\n",
    "df = df.assign(sku_count_rank=factorized)"
   ]
  },
  {
   "cell_type": "code",
   "execution_count": null,
   "id": "292ec374-2f98-40c7-9c82-58345ad3140e",
   "metadata": {},
   "outputs": [],
   "source": [
    "df.sort_values(by='sku_count_rank',ascending=True)"
   ]
  },
  {
   "cell_type": "code",
   "execution_count": null,
   "id": "6f752c42-7eca-4f16-a8ca-0b97405573a0",
   "metadata": {},
   "outputs": [],
   "source": [
    "df.to_csv('../data/data2.csv',index=False)"
   ]
  },
  {
   "cell_type": "code",
   "execution_count": null,
   "id": "a3f5a489-e542-42ea-9dd2-8ea488e9edbe",
   "metadata": {},
   "outputs": [],
   "source": [
    "df.head()"
   ]
  },
  {
   "cell_type": "code",
   "execution_count": null,
   "id": "19a5f25b-630f-4340-b05b-e10f886831c5",
   "metadata": {},
   "outputs": [],
   "source": [
    "df.order_weight_kg.sum()"
   ]
  },
  {
   "cell_type": "code",
   "execution_count": null,
   "id": "0d8f002b-eb0b-4d4e-b289-cb7124867e22",
   "metadata": {},
   "outputs": [],
   "source": [
    "df.order_price_eur.sum()"
   ]
  },
  {
   "cell_type": "code",
   "execution_count": null,
   "id": "16ba543d-71a0-4217-994a-38c0d08a3865",
   "metadata": {},
   "outputs": [],
   "source": [
    "df.info()"
   ]
  },
  {
   "cell_type": "code",
   "execution_count": null,
   "id": "d4c4013d-7f08-4c0a-aba9-e1c5abc1939f",
   "metadata": {},
   "outputs": [],
   "source": [
    "df[df.country == 'AU'].order_weight_kg.sum()/df.order_weight_kg.sum()*100"
   ]
  },
  {
   "cell_type": "code",
   "execution_count": null,
   "id": "2afb8f28-4826-49af-a201-4a8440784267",
   "metadata": {},
   "outputs": [],
   "source": [
    "df.order_price_eur.sum()"
   ]
  },
  {
   "cell_type": "code",
   "execution_count": null,
   "id": "36367082-a793-4d5e-85ad-6e0c85fbc94a",
   "metadata": {},
   "outputs": [],
   "source": []
  },
  {
   "cell_type": "code",
   "execution_count": null,
   "id": "14f5a98b-ec3d-4e7d-b662-636f636ad9a7",
   "metadata": {},
   "outputs": [],
   "source": [
    "df.info()"
   ]
  },
  {
   "cell_type": "code",
   "execution_count": null,
   "id": "8bd781ba-57f1-40ce-850d-21450119fc8a",
   "metadata": {},
   "outputs": [],
   "source": [
    "df.describe().transpose()"
   ]
  },
  {
   "cell_type": "code",
   "execution_count": null,
   "id": "52041ee6-c229-4b76-83c9-482f5b81416f",
   "metadata": {},
   "outputs": [],
   "source": [
    "seen = set()\n",
    "\n",
    "def new_supplier(supplier):\n",
    "    if supplier not in seen:\n",
    "        seen.add(supplier)\n",
    "        return 1\n",
    "    else: \n",
    "        return 0"
   ]
  },
  {
   "cell_type": "code",
   "execution_count": null,
   "id": "75b8aa4b-fb2d-4c41-bff8-46f834f5074c",
   "metadata": {},
   "outputs": [],
   "source": [
    "df['new_supplier'] = df.sort_values('week')['supplier_name'].apply(new_supplier)"
   ]
  },
  {
   "cell_type": "code",
   "execution_count": null,
   "id": "d47a5e25-170a-45d7-a17a-94fdfd63bd25",
   "metadata": {},
   "outputs": [],
   "source": [
    "df = df.sort_values('week')"
   ]
  },
  {
   "cell_type": "code",
   "execution_count": null,
   "id": "8238de80-b262-4559-9853-e31410882226",
   "metadata": {},
   "outputs": [],
   "source": [
    "df.to_csv('../data/data3.csv',index=False)"
   ]
  },
  {
   "cell_type": "code",
   "execution_count": null,
   "id": "8279d1e6-1176-41b4-a401-dde5b25e4e9a",
   "metadata": {},
   "outputs": [],
   "source": [
    "df"
   ]
  },
  {
   "cell_type": "code",
   "execution_count": null,
   "id": "a51bc9e2-f8db-484c-95ae-e4468e80f4c1",
   "metadata": {},
   "outputs": [],
   "source": [
    "df[df.country == 'AU'].sort_values('week')"
   ]
  },
  {
   "cell_type": "code",
   "execution_count": null,
   "id": "d8245990-7cdf-4cde-bea5-92e8ae3a1e09",
   "metadata": {},
   "outputs": [],
   "source": [
    "tags = \"\"\n",
    "\n",
    "for i in df.sku_tags: \n",
    "    tags = tags + i + \" \"\n",
    "        \n",
    "tags = tags.replace(',','')"
   ]
  },
  {
   "cell_type": "code",
   "execution_count": null,
   "id": "57505183-c9c3-4995-aed8-ff2031a830a7",
   "metadata": {},
   "outputs": [],
   "source": [
    "len(tags.split(sep=\" \"))"
   ]
  },
  {
   "cell_type": "code",
   "execution_count": null,
   "id": "d7d72794-9328-474d-90ac-dd8bd9fb1b36",
   "metadata": {},
   "outputs": [],
   "source": [
    "from collections import Counter\n",
    "import re\n",
    "\n",
    "words = re.findall(r'\\w+', tags.lower())\n",
    "w = Counter(words).most_common(10)"
   ]
  },
  {
   "cell_type": "code",
   "execution_count": null,
   "id": "5b7a0a4a-70b3-4379-b5f6-cb957cb132fe",
   "metadata": {},
   "outputs": [],
   "source": [
    "w"
   ]
  },
  {
   "cell_type": "code",
   "execution_count": null,
   "id": "786c188d-5efd-484c-94e3-4c140f0bc548",
   "metadata": {},
   "outputs": [],
   "source": [
    "w_df = pd.DataFrame(w, columns=['word','word_count'])\n",
    "w_df\n",
    "# w_df.to_csv('../data/word_count.csv',index=False)"
   ]
  },
  {
   "cell_type": "code",
   "execution_count": null,
   "id": "69767d51-2553-424e-96f1-f85ad6143991",
   "metadata": {},
   "outputs": [],
   "source": [
    "# !pip install wordcloud\n",
    "from wordcloud import WordCloud"
   ]
  },
  {
   "cell_type": "code",
   "execution_count": null,
   "id": "8aec7e6d-d746-4ce3-a3f9-b05350476de6",
   "metadata": {},
   "outputs": [],
   "source": [
    "wordcloud = WordCloud(background_color=\"white\",width=1920, height=1080).generate(tags)\n",
    "\n",
    "plt.imshow(wordcloud, interpolation=\"bilinear\")\n",
    "plt.axis(\"off\")\n",
    "plt.show() \n",
    "\n",
    "# plt.savefig('words.png')"
   ]
  },
  {
   "cell_type": "code",
   "execution_count": null,
   "id": "20e8b1f9-a93a-4f28-8267-6c3eb6868511",
   "metadata": {},
   "outputs": [],
   "source": [
    "# wordcloud.to_file('word.png')"
   ]
  },
  {
   "cell_type": "code",
   "execution_count": null,
   "id": "c1ee0394-4908-4a99-9ff3-49e65f7bb4e1",
   "metadata": {},
   "outputs": [],
   "source": [
    "from wordcloud import WordCloud\n",
    "import matplotlib.pyplot as plt\n",
    "\n",
    "wordcloud = WordCloud(background_color=\"white\").generate(tags)\n",
    "\n",
    "plt.imshow(wordcloud, interpolation=\"bilinear\")\n",
    "plt.axis(\"off\")\n",
    "plt.show() "
   ]
  },
  {
   "cell_type": "code",
   "execution_count": null,
   "id": "9a14cb45-b552-4d10-94d0-4cff74d13dec",
   "metadata": {},
   "outputs": [],
   "source": [
    "df.head()"
   ]
  },
  {
   "cell_type": "code",
   "execution_count": null,
   "id": "e148418a-c9a6-4ab0-bfe4-3482b49aba66",
   "metadata": {},
   "outputs": [],
   "source": [
    "df.describe().transpose()"
   ]
  },
  {
   "cell_type": "code",
   "execution_count": null,
   "id": "6da8f775-d260-48aa-bb54-fd63436541cd",
   "metadata": {},
   "outputs": [],
   "source": [
    "t = 'hola, hello'"
   ]
  },
  {
   "cell_type": "code",
   "execution_count": null,
   "id": "2439d4fd-29ba-4388-b2bb-1e5805e01898",
   "metadata": {},
   "outputs": [],
   "source": [
    "t.split(',')[0]"
   ]
  },
  {
   "cell_type": "code",
   "execution_count": null,
   "id": "894ecd44-98fc-405f-8f93-c6b38c5fc079",
   "metadata": {},
   "outputs": [],
   "source": [
    "df.head()"
   ]
  },
  {
   "cell_type": "code",
   "execution_count": null,
   "id": "5bb6984b-7069-49d6-b9de-74315dadf235",
   "metadata": {},
   "outputs": [],
   "source": [
    "df['sku_main_tag'] = df.sku_tags.apply(lambda t : t.split(',')[0])"
   ]
  },
  {
   "cell_type": "code",
   "execution_count": null,
   "id": "eedbef30-3dbc-45b6-854a-0b39e50d85d6",
   "metadata": {},
   "outputs": [],
   "source": [
    "df.head()"
   ]
  },
  {
   "cell_type": "code",
   "execution_count": null,
   "id": "5055e3f9-0d7e-45e0-ac05-cf36d7d55b4f",
   "metadata": {},
   "outputs": [],
   "source": [
    "l = []\n",
    "\n",
    "for c in df:\n",
    "    if len(df[c].unique())>8: \n",
    "        l.append([c,len(df[c].unique())])\n",
    "    else: \n",
    "        l.append([c,list(df[c].unique())])\n",
    "\n",
    "print(tabulate(l,headers=['col_name','unique_values'],tablefmt='orgtbl'))"
   ]
  },
  {
   "cell_type": "code",
   "execution_count": null,
   "id": "8e641141-0301-478a-b5f3-348d2c628191",
   "metadata": {},
   "outputs": [],
   "source": [
    "df.to_csv('../data/data4.csv',index=False)"
   ]
  },
  {
   "cell_type": "code",
   "execution_count": null,
   "id": "db55c3cf-e78b-4ff8-b611-a9184cdc3b19",
   "metadata": {},
   "outputs": [],
   "source": [
    "grouped_df = df.orderby('week').groupby(\"supplier_counter\")"
   ]
  },
  {
   "cell_type": "code",
   "execution_count": null,
   "id": "0315e24f-487c-4f5a-89cc-5a9530a1edad",
   "metadata": {},
   "outputs": [],
   "source": [
    "first_values = grouped_df.first()"
   ]
  },
  {
   "cell_type": "code",
   "execution_count": null,
   "id": "79853bc3-329f-46a1-b765-47b456f67af3",
   "metadata": {},
   "outputs": [],
   "source": [
    "first_values = first_values.reset_index()"
   ]
  },
  {
   "cell_type": "code",
   "execution_count": null,
   "id": "77b5e303-7f5b-47de-bfc3-37f6f28d7296",
   "metadata": {},
   "outputs": [],
   "source": [
    "first_values.to_csv('../data/data4.csv',index=False)"
   ]
  },
  {
   "cell_type": "code",
   "execution_count": null,
   "id": "f0bf1e64-696f-4ba8-8c94-b3b3d55d9d2d",
   "metadata": {},
   "outputs": [],
   "source": [
    "first_values"
   ]
  }
 ],
 "metadata": {
  "kernelspec": {
   "display_name": "Python 3 (ipykernel)",
   "language": "python",
   "name": "python3"
  },
  "language_info": {
   "codemirror_mode": {
    "name": "ipython",
    "version": 3
   },
   "file_extension": ".py",
   "mimetype": "text/x-python",
   "name": "python",
   "nbconvert_exporter": "python",
   "pygments_lexer": "ipython3",
   "version": "3.8.12"
  }
 },
 "nbformat": 4,
 "nbformat_minor": 5
}
